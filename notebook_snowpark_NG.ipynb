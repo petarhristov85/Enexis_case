{
 "cells": [
  {
   "cell_type": "code",
   "execution_count": null,
   "id": "7ddbcdf8",
   "metadata": {},
   "outputs": [],
   "source": [
    "from snowflake.snowpark import Session\n",
    "connection_parameters = {\n",
    "  \"account\": \"MQJIBNP-VM41968\",\n",
    "  \"user\": \"NIENKEG\",\n",
    "  \"password\": \"\"\n",
    "}\n",
    "\n",
    "new_session = Session.builder.configs(connection_parameters).create()"
   ]
  },
  {
   "cell_type": "code",
   "execution_count": 127,
   "id": "ab6cc56d",
   "metadata": {},
   "outputs": [
    {
     "name": "stdout",
     "output_type": "stream",
     "text": [
      "------------------------------------\n",
      "|\"status\"                          |\n",
      "------------------------------------\n",
      "|Statement executed successfully.  |\n",
      "------------------------------------\n",
      "\n"
     ]
    }
   ],
   "source": [
    "df = new_session.sql(\"use database AWS;\")\n",
    "df.show()"
   ]
  },
  {
   "cell_type": "code",
   "execution_count": 128,
   "id": "639c1dbb",
   "metadata": {},
   "outputs": [
    {
     "data": {
      "text/plain": [
       "[Row(status='Integration MY_S3_INTEGRATION successfully created.')]"
      ]
     },
     "execution_count": 128,
     "metadata": {},
     "output_type": "execute_result"
    }
   ],
   "source": [
    "new_session.sql(\"\"\"CREATE OR REPLACE STORAGE INTEGRATION my_s3_integration\n",
    "TYPE = EXTERNAL_STAGE\n",
    "STORAGE_PROVIDER = S3\n",
    "ENABLED = TRUE\n",
    "STORAGE_AWS_ROLE_ARN = 'arn:aws:iam::123456789012:role/my-snowflake-role'\n",
    "STORAGE_ALLOWED_LOCATIONS = ('s3://snowflakebucket4data/cards_data.csv', 's3://snowflakebucket4data/users_data.csv',\n",
    "                 's3://snowflakebucket4data/mcc_codes.json', 's3://snowflakebucket4data/train_fraud_labels.json');\n",
    "\"\"\").collect()"
   ]
  },
  {
   "cell_type": "code",
   "execution_count": 129,
   "id": "9434ff23",
   "metadata": {},
   "outputs": [
    {
     "data": {
      "text/plain": [
       "[Row(property='ENABLED', property_type='Boolean', property_value='true', property_default='false'),\n",
       " Row(property='STORAGE_PROVIDER', property_type='String', property_value='S3', property_default=''),\n",
       " Row(property='STORAGE_ALLOWED_LOCATIONS', property_type='List', property_value='s3://snowflakebucket4data/cards_data.csv,s3://snowflakebucket4data/users_data.csv,s3://snowflakebucket4data/mcc_codes.json,s3://snowflakebucket4data/train_fraud_labels.json', property_default='[]'),\n",
       " Row(property='STORAGE_BLOCKED_LOCATIONS', property_type='List', property_value='', property_default='[]'),\n",
       " Row(property='STORAGE_AWS_IAM_USER_ARN', property_type='String', property_value='arn:aws:iam::296062579650:user/iovx0000-s', property_default=''),\n",
       " Row(property='STORAGE_AWS_ROLE_ARN', property_type='String', property_value='arn:aws:iam::123456789012:role/my-snowflake-role', property_default=''),\n",
       " Row(property='STORAGE_AWS_EXTERNAL_ID', property_type='String', property_value='VV45568_SFCRole=3_Dc91K0RSGwfMvT8nfcuxKxghUvA=', property_default=''),\n",
       " Row(property='USE_PRIVATELINK_ENDPOINT', property_type='Boolean', property_value='false', property_default='false'),\n",
       " Row(property='COMMENT', property_type='String', property_value='', property_default='')]"
      ]
     },
     "execution_count": 129,
     "metadata": {},
     "output_type": "execute_result"
    }
   ],
   "source": [
    "new_session.sql(\"\"\"DESC INTEGRATION my_s3_integration;\"\"\").collect()"
   ]
  },
  {
   "cell_type": "code",
   "execution_count": 130,
   "id": "dc19b74a",
   "metadata": {},
   "outputs": [
    {
     "name": "stdout",
     "output_type": "stream",
     "text": [
      "The S3 storage for the cards_data.csv is created.\n"
     ]
    }
   ],
   "source": [
    "# cards_data.csv\n",
    "\n",
    "CSVs = [\"cards_data.csv\", \"users_data.csv\"]\n",
    "\n",
    "\n",
    "new_session.sql(\"\"\"\n",
    "            CREATE OR REPLACE STAGE aws_s3_cards_stage\n",
    "            URL = 's3://snowflakebucket4data/cards_data.csv'\n",
    "            STORAGE_INTEGRATION = my_s3_integration\n",
    "            FILE_FORMAT = (TYPE = 'CSV');\n",
    "            \"\"\").collect()\n",
    "\n",
    "print(\"The S3 storage for the cards_data.csv is created.\")"
   ]
  },
  {
   "cell_type": "code",
   "execution_count": 131,
   "id": "a131b351",
   "metadata": {},
   "outputs": [
    {
     "name": "stdout",
     "output_type": "stream",
     "text": [
      "The S3 storage for the users_data.cs is created.\n"
     ]
    }
   ],
   "source": [
    "# users_data.csv\n",
    "\n",
    "new_session.sql(\"\"\"\n",
    "            CREATE OR REPLACE STAGE aws_s3_users_stage\n",
    "            URL = 's3://snowflakebucket4data/users_data.csv'\n",
    "            STORAGE_INTEGRATION = my_s3_integration\n",
    "            FILE_FORMAT = (TYPE = 'CSV');\n",
    "            \"\"\").collect()\n",
    "\n",
    "print(\"The S3 storage for the users_data.cs is created.\")"
   ]
  },
  {
   "cell_type": "code",
   "execution_count": 132,
   "id": "59567139",
   "metadata": {},
   "outputs": [
    {
     "name": "stdout",
     "output_type": "stream",
     "text": [
      "The S3 storage for the mcc_codes.json is created.\n"
     ]
    }
   ],
   "source": [
    "# mcc_codes.json\n",
    "\n",
    "new_session.sql(\"\"\"\n",
    "            CREATE OR REPLACE STAGE aws_s3_mcc_stage\n",
    "            URL = 's3://snowflakebucket4data/mcc_codes.json'\n",
    "            STORAGE_INTEGRATION = my_s3_integration\n",
    "            FILE_FORMAT = (TYPE = 'JSON');\n",
    "            \"\"\").collect()\n",
    "\n",
    "print(\"The S3 storage for the mcc_codes.json is created.\")"
   ]
  },
  {
   "cell_type": "code",
   "execution_count": 133,
   "id": "10b7795a",
   "metadata": {},
   "outputs": [
    {
     "name": "stdout",
     "output_type": "stream",
     "text": [
      "The S3 storage for the train_fraud_labels.json is created.\n"
     ]
    }
   ],
   "source": [
    "# train_fraud_labels.json\n",
    "\n",
    "new_session.sql(\"\"\"\n",
    "            CREATE OR REPLACE STAGE aws_s3_fraud_stage\n",
    "            URL = 's3://snowflakebucket4data/train_fraud_labels.json'\n",
    "            STORAGE_INTEGRATION = my_s3_integration\n",
    "            FILE_FORMAT = (TYPE = 'JSON');\n",
    "            \"\"\").collect()\n",
    "\n",
    "print(\"The S3 storage for the train_fraud_labels.json is created.\")"
   ]
  }
 ],
 "metadata": {
  "kernelspec": {
   "display_name": "Python 3",
   "language": "python",
   "name": "python3"
  },
  "language_info": {
   "codemirror_mode": {
    "name": "ipython",
    "version": 3
   },
   "file_extension": ".py",
   "mimetype": "text/x-python",
   "name": "python",
   "nbconvert_exporter": "python",
   "pygments_lexer": "ipython3",
   "version": "3.9.13"
  }
 },
 "nbformat": 4,
 "nbformat_minor": 5
}
