{
 "cells": [
  {
   "cell_type": "code",
   "execution_count": null,
   "id": "7ddbcdf8",
   "metadata": {},
   "outputs": [],
   "source": [
    "from snowflake.snowpark import Session\n",
    "connection_parameters = {\n",
    "  \"account\": \"MQJIBNP-VM41968\",\n",
    "  \"user\": \"NIENKEG\",\n",
    "  \"password\": \"\"\n",
    "}\n",
    "\n",
    "new_session = Session.builder.configs(connection_parameters).create()"
   ]
  },
  {
   "cell_type": "code",
   "execution_count": 11,
   "id": "ab6cc56d",
   "metadata": {},
   "outputs": [
    {
     "name": "stdout",
     "output_type": "stream",
     "text": [
      "------------------------------------\n",
      "|\"status\"                          |\n",
      "------------------------------------\n",
      "|Statement executed successfully.  |\n",
      "------------------------------------\n",
      "\n"
     ]
    }
   ],
   "source": [
    "df = new_session.sql(\"use database AWS;\")\n",
    "df.show()"
   ]
  },
  {
   "cell_type": "code",
   "execution_count": 12,
   "id": "639c1dbb",
   "metadata": {},
   "outputs": [
    {
     "data": {
      "text/plain": [
       "[Row(status='Integration MY_S3_INTEGRATIONS successfully created.')]"
      ]
     },
     "execution_count": 12,
     "metadata": {},
     "output_type": "execute_result"
    }
   ],
   "source": [
    "new_session.sql(\"\"\"CREATE OR REPLACE STORAGE INTEGRATION my_s3_integrations\n",
    "TYPE = EXTERNAL_STAGE\n",
    "STORAGE_PROVIDER = S3\n",
    "ENABLED = TRUE\n",
    "STORAGE_AWS_ROLE_ARN = 'arn:aws:iam::756124510499:role/connectandinspire'\n",
    "STORAGE_ALLOWED_LOCATIONS = ('s3://data4enexis2usecase/cards_data.csv', 's3://data4enexis2usecase/users_data.csv',\n",
    "                 's3://data4enexis2usecase/mcc_codes.json', 's3://data4enexis2usecase/train_fraud_labels.json');\n",
    "\"\"\").collect()\n",
    "\n",
    "# my_s3_integrations replaced by ENEXIS_EXTERNAL_SI"
   ]
  },
  {
   "cell_type": "code",
   "execution_count": 13,
   "id": "9434ff23",
   "metadata": {},
   "outputs": [
    {
     "data": {
      "text/plain": [
       "[Row(property='ENABLED', property_type='Boolean', property_value='true', property_default='false'),\n",
       " Row(property='STORAGE_PROVIDER', property_type='String', property_value='S3', property_default=''),\n",
       " Row(property='STORAGE_ALLOWED_LOCATIONS', property_type='List', property_value='s3://data4enexis2usecase/cards_data.csv,s3://data4enexis2usecase/users_data.csv,s3://data4enexis2usecase/mcc_codes.json,s3://data4enexis2usecase/train_fraud_labels.json', property_default='[]'),\n",
       " Row(property='STORAGE_BLOCKED_LOCATIONS', property_type='List', property_value='', property_default='[]'),\n",
       " Row(property='STORAGE_AWS_IAM_USER_ARN', property_type='String', property_value='arn:aws:iam::296062579650:user/iovx0000-s', property_default=''),\n",
       " Row(property='STORAGE_AWS_ROLE_ARN', property_type='String', property_value='arn:aws:iam::756124510499:role/connectandinspire', property_default=''),\n",
       " Row(property='STORAGE_AWS_EXTERNAL_ID', property_type='String', property_value='VV45568_SFCRole=3_NObdHDXAspfNBNSq9RoasNjvGKE=', property_default=''),\n",
       " Row(property='USE_PRIVATELINK_ENDPOINT', property_type='Boolean', property_value='false', property_default='false'),\n",
       " Row(property='COMMENT', property_type='String', property_value='', property_default='')]"
      ]
     },
     "execution_count": 13,
     "metadata": {},
     "output_type": "execute_result"
    }
   ],
   "source": [
    "new_session.sql(\"\"\"DESC INTEGRATION my_s3_integrations;\"\"\").collect()"
   ]
  },
  {
   "cell_type": "code",
   "execution_count": 14,
   "id": "dc19b74a",
   "metadata": {},
   "outputs": [
    {
     "name": "stdout",
     "output_type": "stream",
     "text": [
      "The S3 storage for the cards_data.csv is created.\n"
     ]
    }
   ],
   "source": [
    "# cards_data.csv\n",
    "\n",
    "new_session.sql(\"\"\"\n",
    "            CREATE OR REPLACE STAGE aws_s3_cards_stage\n",
    "            URL = 's3://data4enexis2usecase/cards_data.csv'\n",
    "            STORAGE_INTEGRATION = my_s3_integrations\n",
    "            FILE_FORMAT = (TYPE = 'CSV');\n",
    "            \"\"\").collect()\n",
    "\n",
    "print(\"The S3 storage for the cards_data.csv is created.\")"
   ]
  },
  {
   "cell_type": "code",
   "execution_count": 15,
   "id": "a131b351",
   "metadata": {},
   "outputs": [
    {
     "name": "stdout",
     "output_type": "stream",
     "text": [
      "The S3 storage for the users_data.cs is created.\n"
     ]
    }
   ],
   "source": [
    "# users_data.csv\n",
    "\n",
    "new_session.sql(\"\"\"\n",
    "            CREATE OR REPLACE STAGE aws_s3_users_stage\n",
    "            URL = 's3://data4enexis2usecase/users_data.csv'\n",
    "            STORAGE_INTEGRATION = my_s3_integrations\n",
    "            FILE_FORMAT = (TYPE = 'CSV');\n",
    "            \"\"\").collect()\n",
    "\n",
    "print(\"The S3 storage for the users_data.cs is created.\")"
   ]
  },
  {
   "cell_type": "code",
   "execution_count": 16,
   "id": "59567139",
   "metadata": {},
   "outputs": [
    {
     "name": "stdout",
     "output_type": "stream",
     "text": [
      "The S3 storage for the mcc_codes.json is created.\n"
     ]
    }
   ],
   "source": [
    "# mcc_codes.json\n",
    "\n",
    "new_session.sql(\"\"\"\n",
    "            CREATE OR REPLACE STAGE aws_s3_mcc_stage\n",
    "            URL = 's3://data4enexis2usecase/mcc_codes.json'\n",
    "            STORAGE_INTEGRATION = my_s3_integrations\n",
    "            FILE_FORMAT = (TYPE = 'JSON');\n",
    "            \"\"\").collect()\n",
    "\n",
    "print(\"The S3 storage for the mcc_codes.json is created.\")"
   ]
  },
  {
   "cell_type": "code",
   "execution_count": 17,
   "id": "10b7795a",
   "metadata": {},
   "outputs": [
    {
     "name": "stdout",
     "output_type": "stream",
     "text": [
      "The S3 storage for the train_fraud_labels.json is created.\n"
     ]
    }
   ],
   "source": [
    "# train_fraud_labels.json\n",
    "\n",
    "new_session.sql(\"\"\"\n",
    "            CREATE OR REPLACE STAGE aws_s3_fraud_stage\n",
    "            URL = 's3://data4enexis2usecase/train_fraud_labels.json'\n",
    "            STORAGE_INTEGRATION = my_s3_integrations\n",
    "            FILE_FORMAT = (TYPE = 'JSON');\n",
    "            \"\"\").collect()\n",
    "\n",
    "print(\"The S3 storage for the train_fraud_labels.json is created.\")"
   ]
  },
  {
   "cell_type": "code",
   "execution_count": 19,
   "id": "16f3e4f0",
   "metadata": {},
   "outputs": [
    {
     "data": {
      "text/plain": [
       "<snowflake.snowpark.dataframe.DataFrame at 0x233e2f940a0>"
      ]
     },
     "execution_count": 19,
     "metadata": {},
     "output_type": "execute_result"
    }
   ],
   "source": [
    "new_session.sql(\"\"\"LIST @my_s3_integrations;\"\"\")"
   ]
  },
  {
   "cell_type": "code",
   "execution_count": null,
   "id": "b6f2af87",
   "metadata": {},
   "outputs": [
    {
     "name": "stdout",
     "output_type": "stream",
     "text": [
      "CSV format aangemaakt\n"
     ]
    }
   ],
   "source": [
    "# Create csv format\n",
    "\n",
    "new_session.sql(\"\"\"\n",
    "        CREATE OR REPLACE FILE FORMAT mijn_csv_format\n",
    "        TYPE = 'CSV'\n",
    "        FIELD_OPTIONALLY_ENCLOSED_BY = '\"'\n",
    "        SKIP_HEADER = 1\n",
    "        FIELD_DELIMITER = ',';\n",
    "            \"\"\").collect()\n",
    "\n",
    "print(\"CSV format aangemaakt\")"
   ]
  },
  {
   "cell_type": "code",
   "execution_count": 25,
   "id": "c6f04dc5",
   "metadata": {},
   "outputs": [
    {
     "name": "stdout",
     "output_type": "stream",
     "text": [
      "Tabel cards_data aangemaakt\n"
     ]
    }
   ],
   "source": [
    "# Create table \n",
    "\n",
    "# has_chip and card_on_dark_web should be boolean\n",
    "new_session.sql(\"\"\"\n",
    "                CREATE OR REPLACE TABLE cards_data (\n",
    "                id INT,\n",
    "                client_id INT,\n",
    "                card_brand STRING,\n",
    "                card_type Varchar(20),\n",
    "                card_number INT,\n",
    "                expires DATE,\n",
    "                cvv INT,\n",
    "                has_chip varchar(10),\n",
    "                num_cards_issued INT,\n",
    "                credit_limit varchar(30),\n",
    "                acct_open_date DATE,\n",
    "                year_pin_last_changed DATE,\n",
    "                card_on_dark_web varchar(10));\n",
    "            \"\"\").collect()\n",
    "\n",
    "\n",
    "print(\"Tabel cards_data aangemaakt\")\n"
   ]
  },
  {
   "cell_type": "code",
   "execution_count": 27,
   "id": "ae6a0c74",
   "metadata": {},
   "outputs": [
    {
     "ename": "SnowparkSQLException",
     "evalue": "(1304): 01bc8949-0106-9877-0002-b46a0009508a: 003167 (42601): Error assuming AWS_ROLE:\nUser: arn:aws:iam::296062579650:user/iovx0000-s is not authorized to perform: sts:AssumeRole on resource: arn:aws:iam::756124510499:role/connectandinspire",
     "output_type": "error",
     "traceback": [
      "\u001b[1;31m---------------------------------------------------------------------------\u001b[0m",
      "\u001b[1;31mSnowparkSQLException\u001b[0m                      Traceback (most recent call last)",
      "Cell \u001b[1;32mIn[27], line 3\u001b[0m\n\u001b[0;32m      1\u001b[0m \u001b[38;5;66;03m# Vul tabel cards_data\u001b[39;00m\n\u001b[1;32m----> 3\u001b[0m \u001b[43mnew_session\u001b[49m\u001b[38;5;241;43m.\u001b[39;49m\u001b[43msql\u001b[49m\u001b[43m(\u001b[49m\u001b[38;5;124;43m\"\"\"\u001b[39;49m\n\u001b[0;32m      4\u001b[0m \u001b[38;5;124;43m                COPY INTO cards_data\u001b[39;49m\n\u001b[0;32m      5\u001b[0m \u001b[38;5;124;43m                FROM @aws_s3_cards_stage\u001b[39;49m\n\u001b[0;32m      6\u001b[0m \u001b[38;5;124;43m                FILE_FORMAT = (FORMAT_NAME = \u001b[39;49m\u001b[38;5;124;43m'\u001b[39;49m\u001b[38;5;124;43mmijn_csv_format\u001b[39;49m\u001b[38;5;124;43m'\u001b[39;49m\u001b[38;5;124;43m);\u001b[39;49m\n\u001b[0;32m      7\u001b[0m \u001b[38;5;124;43m                \u001b[39;49m\u001b[38;5;124;43m\"\"\"\u001b[39;49m\u001b[43m)\u001b[49m\u001b[38;5;241;43m.\u001b[39;49m\u001b[43mcollect\u001b[49m\u001b[43m(\u001b[49m\u001b[43m)\u001b[49m\n\u001b[0;32m      9\u001b[0m \u001b[38;5;28mprint\u001b[39m(\u001b[38;5;124m\"\u001b[39m\u001b[38;5;124mTabel cards_data gevuld\u001b[39m\u001b[38;5;124m\"\u001b[39m)\n",
      "File \u001b[1;32m~\\AppData\\Roaming\\Python\\Python39\\site-packages\\snowflake\\snowpark\\_internal\\telemetry.py:288\u001b[0m, in \u001b[0;36mdf_collect_api_telemetry.<locals>.wrap\u001b[1;34m(*args, **kwargs)\u001b[0m\n\u001b[0;32m    286\u001b[0m \u001b[38;5;28;01mtry\u001b[39;00m:\n\u001b[0;32m    287\u001b[0m     \u001b[38;5;28;01mwith\u001b[39;00m ResourceUsageCollector() \u001b[38;5;28;01mas\u001b[39;00m resource_usage_collector:\n\u001b[1;32m--> 288\u001b[0m         result \u001b[38;5;241m=\u001b[39m func(\u001b[38;5;241m*\u001b[39margs, \u001b[38;5;241m*\u001b[39m\u001b[38;5;241m*\u001b[39mkwargs)\n\u001b[0;32m    289\u001b[0m     resource_usage \u001b[38;5;241m=\u001b[39m resource_usage_collector\u001b[38;5;241m.\u001b[39mget_resource_usage()\n\u001b[0;32m    290\u001b[0m \u001b[38;5;28;01mfinally\u001b[39;00m:\n",
      "File \u001b[1;32m~\\AppData\\Roaming\\Python\\Python39\\site-packages\\snowflake\\snowpark\\_internal\\utils.py:1080\u001b[0m, in \u001b[0;36mpublicapi.<locals>.call_wrapper\u001b[1;34m(*args, **kwargs)\u001b[0m\n\u001b[0;32m   1076\u001b[0m kwargs[\u001b[38;5;124m\"\u001b[39m\u001b[38;5;124m_emit_ast\u001b[39m\u001b[38;5;124m\"\u001b[39m] \u001b[38;5;241m=\u001b[39m is_ast_enabled()\n\u001b[0;32m   1078\u001b[0m \u001b[38;5;66;03m# TODO: Could modify internal docstring to display that users should not modify the _emit_ast parameter.\u001b[39;00m\n\u001b[1;32m-> 1080\u001b[0m \u001b[38;5;28;01mreturn\u001b[39;00m func(\u001b[38;5;241m*\u001b[39margs, \u001b[38;5;241m*\u001b[39m\u001b[38;5;241m*\u001b[39mkwargs)\n",
      "File \u001b[1;32m~\\AppData\\Roaming\\Python\\Python39\\site-packages\\snowflake\\snowpark\\dataframe.py:733\u001b[0m, in \u001b[0;36mDataFrame.collect\u001b[1;34m(self, statement_params, block, log_on_exception, case_sensitive, _emit_ast)\u001b[0m\n\u001b[0;32m    730\u001b[0m     _, kwargs[DATAFRAME_AST_PARAMETER] \u001b[38;5;241m=\u001b[39m \u001b[38;5;28mself\u001b[39m\u001b[38;5;241m.\u001b[39m_session\u001b[38;5;241m.\u001b[39m_ast_batch\u001b[38;5;241m.\u001b[39mflush(stmt)\n\u001b[0;32m    732\u001b[0m \u001b[38;5;28;01mwith\u001b[39;00m open_telemetry_context_manager(\u001b[38;5;28mself\u001b[39m\u001b[38;5;241m.\u001b[39mcollect, \u001b[38;5;28mself\u001b[39m):\n\u001b[1;32m--> 733\u001b[0m     \u001b[38;5;28;01mreturn\u001b[39;00m \u001b[38;5;28mself\u001b[39m\u001b[38;5;241m.\u001b[39m_internal_collect_with_tag_no_telemetry(\n\u001b[0;32m    734\u001b[0m         statement_params\u001b[38;5;241m=\u001b[39mstatement_params,\n\u001b[0;32m    735\u001b[0m         block\u001b[38;5;241m=\u001b[39mblock,\n\u001b[0;32m    736\u001b[0m         log_on_exception\u001b[38;5;241m=\u001b[39mlog_on_exception,\n\u001b[0;32m    737\u001b[0m         case_sensitive\u001b[38;5;241m=\u001b[39mcase_sensitive,\n\u001b[0;32m    738\u001b[0m         \u001b[38;5;241m*\u001b[39m\u001b[38;5;241m*\u001b[39mkwargs,\n\u001b[0;32m    739\u001b[0m     )\n",
      "File \u001b[1;32m~\\AppData\\Roaming\\Python\\Python39\\site-packages\\snowflake\\snowpark\\dataframe.py:803\u001b[0m, in \u001b[0;36mDataFrame._internal_collect_with_tag_no_telemetry\u001b[1;34m(self, statement_params, block, data_type, log_on_exception, case_sensitive, **kwargs)\u001b[0m\n\u001b[0;32m    790\u001b[0m \u001b[38;5;28;01mdef\u001b[39;00m\u001b[38;5;250m \u001b[39m\u001b[38;5;21m_internal_collect_with_tag_no_telemetry\u001b[39m(\n\u001b[0;32m    791\u001b[0m     \u001b[38;5;28mself\u001b[39m,\n\u001b[0;32m    792\u001b[0m     \u001b[38;5;241m*\u001b[39m,\n\u001b[1;32m   (...)\u001b[0m\n\u001b[0;32m    801\u001b[0m     \u001b[38;5;66;03m# we should always call this method instead of collect(), to make sure the\u001b[39;00m\n\u001b[0;32m    802\u001b[0m     \u001b[38;5;66;03m# query tag is set properly.\u001b[39;00m\n\u001b[1;32m--> 803\u001b[0m     \u001b[38;5;28;01mreturn\u001b[39;00m \u001b[38;5;28mself\u001b[39m\u001b[38;5;241m.\u001b[39m_session\u001b[38;5;241m.\u001b[39m_conn\u001b[38;5;241m.\u001b[39mexecute(\n\u001b[0;32m    804\u001b[0m         \u001b[38;5;28mself\u001b[39m\u001b[38;5;241m.\u001b[39m_plan,\n\u001b[0;32m    805\u001b[0m         block\u001b[38;5;241m=\u001b[39mblock,\n\u001b[0;32m    806\u001b[0m         data_type\u001b[38;5;241m=\u001b[39mdata_type,\n\u001b[0;32m    807\u001b[0m         _statement_params\u001b[38;5;241m=\u001b[39mcreate_or_update_statement_params_with_query_tag(\n\u001b[0;32m    808\u001b[0m             statement_params \u001b[38;5;129;01mor\u001b[39;00m \u001b[38;5;28mself\u001b[39m\u001b[38;5;241m.\u001b[39m_statement_params,\n\u001b[0;32m    809\u001b[0m             \u001b[38;5;28mself\u001b[39m\u001b[38;5;241m.\u001b[39m_session\u001b[38;5;241m.\u001b[39mquery_tag,\n\u001b[0;32m    810\u001b[0m             SKIP_LEVELS_THREE,\n\u001b[0;32m    811\u001b[0m             collect_stacktrace\u001b[38;5;241m=\u001b[39m\u001b[38;5;28mself\u001b[39m\u001b[38;5;241m.\u001b[39m_session\u001b[38;5;241m.\u001b[39mconf\u001b[38;5;241m.\u001b[39mget(\n\u001b[0;32m    812\u001b[0m                 \u001b[38;5;124m\"\u001b[39m\u001b[38;5;124mcollect_stacktrace_in_query_tag\u001b[39m\u001b[38;5;124m\"\u001b[39m\n\u001b[0;32m    813\u001b[0m             ),\n\u001b[0;32m    814\u001b[0m         ),\n\u001b[0;32m    815\u001b[0m         log_on_exception\u001b[38;5;241m=\u001b[39mlog_on_exception,\n\u001b[0;32m    816\u001b[0m         case_sensitive\u001b[38;5;241m=\u001b[39mcase_sensitive,\n\u001b[0;32m    817\u001b[0m         \u001b[38;5;241m*\u001b[39m\u001b[38;5;241m*\u001b[39mkwargs,\n\u001b[0;32m    818\u001b[0m     )\n",
      "File \u001b[1;32m~\\AppData\\Roaming\\Python\\Python39\\site-packages\\snowflake\\snowpark\\_internal\\server_connection.py:624\u001b[0m, in \u001b[0;36mServerConnection.execute\u001b[1;34m(self, plan, to_pandas, to_iter, to_arrow, block, data_type, log_on_exception, case_sensitive, **kwargs)\u001b[0m\n\u001b[0;32m    614\u001b[0m \u001b[38;5;28;01mif\u001b[39;00m (\n\u001b[0;32m    615\u001b[0m     is_in_stored_procedure()\n\u001b[0;32m    616\u001b[0m     \u001b[38;5;129;01mand\u001b[39;00m \u001b[38;5;129;01mnot\u001b[39;00m block\n\u001b[1;32m   (...)\u001b[0m\n\u001b[0;32m    619\u001b[0m     )\n\u001b[0;32m    620\u001b[0m ):  \u001b[38;5;66;03m# pragma: no cover\u001b[39;00m\n\u001b[0;32m    621\u001b[0m     \u001b[38;5;28;01mraise\u001b[39;00m \u001b[38;5;167;01mNotImplementedError\u001b[39;00m(\n\u001b[0;32m    622\u001b[0m         \u001b[38;5;124m\"\u001b[39m\u001b[38;5;124mAsync query is not supported in stored procedure yet\u001b[39m\u001b[38;5;124m\"\u001b[39m\n\u001b[0;32m    623\u001b[0m     )\n\u001b[1;32m--> 624\u001b[0m result_set, result_meta \u001b[38;5;241m=\u001b[39m \u001b[38;5;28mself\u001b[39m\u001b[38;5;241m.\u001b[39mget_result_set(\n\u001b[0;32m    625\u001b[0m     plan,\n\u001b[0;32m    626\u001b[0m     to_pandas,\n\u001b[0;32m    627\u001b[0m     to_iter,\n\u001b[0;32m    628\u001b[0m     \u001b[38;5;241m*\u001b[39m\u001b[38;5;241m*\u001b[39mkwargs,\n\u001b[0;32m    629\u001b[0m     block\u001b[38;5;241m=\u001b[39mblock,\n\u001b[0;32m    630\u001b[0m     data_type\u001b[38;5;241m=\u001b[39mdata_type,\n\u001b[0;32m    631\u001b[0m     log_on_exception\u001b[38;5;241m=\u001b[39mlog_on_exception,\n\u001b[0;32m    632\u001b[0m     case_sensitive\u001b[38;5;241m=\u001b[39mcase_sensitive,\n\u001b[0;32m    633\u001b[0m     to_arrow\u001b[38;5;241m=\u001b[39mto_arrow,\n\u001b[0;32m    634\u001b[0m )\n\u001b[0;32m    635\u001b[0m \u001b[38;5;28;01mif\u001b[39;00m \u001b[38;5;129;01mnot\u001b[39;00m block:\n\u001b[0;32m    636\u001b[0m     \u001b[38;5;28;01mreturn\u001b[39;00m result_set\n",
      "File \u001b[1;32m~\\AppData\\Roaming\\Python\\Python39\\site-packages\\snowflake\\snowpark\\_internal\\analyzer\\snowflake_plan.py:326\u001b[0m, in \u001b[0;36mSnowflakePlan.Decorator.wrap_exception.<locals>.wrap\u001b[1;34m(*args, **kwargs)\u001b[0m\n\u001b[0;32m    321\u001b[0m                 \u001b[38;5;28;01mraise\u001b[39;00m ne\u001b[38;5;241m.\u001b[39mwith_traceback(tb) \u001b[38;5;28;01mfrom\u001b[39;00m\u001b[38;5;250m \u001b[39m\u001b[38;5;28;01mNone\u001b[39;00m\n\u001b[0;32m    323\u001b[0m ne \u001b[38;5;241m=\u001b[39m SnowparkClientExceptionMessages\u001b[38;5;241m.\u001b[39mSQL_EXCEPTION_FROM_PROGRAMMING_ERROR(\n\u001b[0;32m    324\u001b[0m     e\n\u001b[0;32m    325\u001b[0m )\n\u001b[1;32m--> 326\u001b[0m \u001b[38;5;28;01mraise\u001b[39;00m ne\u001b[38;5;241m.\u001b[39mwith_traceback(tb) \u001b[38;5;28;01mfrom\u001b[39;00m\u001b[38;5;250m \u001b[39m\u001b[38;5;28;01mNone\u001b[39;00m\n",
      "File \u001b[1;32m~\\AppData\\Roaming\\Python\\Python39\\site-packages\\snowflake\\snowpark\\_internal\\analyzer\\snowflake_plan.py:151\u001b[0m, in \u001b[0;36mSnowflakePlan.Decorator.wrap_exception.<locals>.wrap\u001b[1;34m(*args, **kwargs)\u001b[0m\n\u001b[0;32m    149\u001b[0m \u001b[38;5;28;01mdef\u001b[39;00m\u001b[38;5;250m \u001b[39m\u001b[38;5;21mwrap\u001b[39m(\u001b[38;5;241m*\u001b[39margs, \u001b[38;5;241m*\u001b[39m\u001b[38;5;241m*\u001b[39mkwargs):\n\u001b[0;32m    150\u001b[0m     \u001b[38;5;28;01mtry\u001b[39;00m:\n\u001b[1;32m--> 151\u001b[0m         \u001b[38;5;28;01mreturn\u001b[39;00m func(\u001b[38;5;241m*\u001b[39margs, \u001b[38;5;241m*\u001b[39m\u001b[38;5;241m*\u001b[39mkwargs)\n\u001b[0;32m    152\u001b[0m     \u001b[38;5;28;01mexcept\u001b[39;00m snowflake\u001b[38;5;241m.\u001b[39mconnector\u001b[38;5;241m.\u001b[39merrors\u001b[38;5;241m.\u001b[39mProgrammingError \u001b[38;5;28;01mas\u001b[39;00m e:\n\u001b[0;32m    153\u001b[0m         \u001b[38;5;28;01mfrom\u001b[39;00m\u001b[38;5;250m \u001b[39m\u001b[38;5;21;01msnowflake\u001b[39;00m\u001b[38;5;21;01m.\u001b[39;00m\u001b[38;5;21;01msnowpark\u001b[39;00m\u001b[38;5;21;01m.\u001b[39;00m\u001b[38;5;21;01m_internal\u001b[39;00m\u001b[38;5;21;01m.\u001b[39;00m\u001b[38;5;21;01manalyzer\u001b[39;00m\u001b[38;5;21;01m.\u001b[39;00m\u001b[38;5;21;01mselect_statement\u001b[39;00m\u001b[38;5;250m \u001b[39m\u001b[38;5;28;01mimport\u001b[39;00m (\n\u001b[0;32m    154\u001b[0m             Selectable,\n\u001b[0;32m    155\u001b[0m         )\n",
      "File \u001b[1;32m~\\AppData\\Roaming\\Python\\Python39\\site-packages\\snowflake\\snowpark\\_internal\\server_connection.py:746\u001b[0m, in \u001b[0;36mServerConnection.get_result_set\u001b[1;34m(self, plan, to_pandas, to_iter, block, data_type, log_on_exception, case_sensitive, ignore_results, to_arrow, **kwargs)\u001b[0m\n\u001b[0;32m    744\u001b[0m     kwargs[DATAFRAME_AST_PARAMETER] \u001b[38;5;241m=\u001b[39m dataframe_ast\n\u001b[0;32m    745\u001b[0m is_final_query \u001b[38;5;241m=\u001b[39m i \u001b[38;5;241m==\u001b[39m \u001b[38;5;28mlen\u001b[39m(main_queries) \u001b[38;5;241m-\u001b[39m \u001b[38;5;241m1\u001b[39m\n\u001b[1;32m--> 746\u001b[0m result \u001b[38;5;241m=\u001b[39m \u001b[38;5;28mself\u001b[39m\u001b[38;5;241m.\u001b[39mrun_query(\n\u001b[0;32m    747\u001b[0m     final_query,\n\u001b[0;32m    748\u001b[0m     to_pandas,\n\u001b[0;32m    749\u001b[0m     to_iter \u001b[38;5;129;01mand\u001b[39;00m is_final_query,\n\u001b[0;32m    750\u001b[0m     is_ddl_on_temp_object\u001b[38;5;241m=\u001b[39mquery\u001b[38;5;241m.\u001b[39mis_ddl_on_temp_object,\n\u001b[0;32m    751\u001b[0m     block\u001b[38;5;241m=\u001b[39m\u001b[38;5;129;01mnot\u001b[39;00m is_last,\n\u001b[0;32m    752\u001b[0m     data_type\u001b[38;5;241m=\u001b[39mdata_type,\n\u001b[0;32m    753\u001b[0m     async_job_plan\u001b[38;5;241m=\u001b[39mplan,\n\u001b[0;32m    754\u001b[0m     log_on_exception\u001b[38;5;241m=\u001b[39mlog_on_exception,\n\u001b[0;32m    755\u001b[0m     case_sensitive\u001b[38;5;241m=\u001b[39mcase_sensitive,\n\u001b[0;32m    756\u001b[0m     params\u001b[38;5;241m=\u001b[39mquery\u001b[38;5;241m.\u001b[39mparams,\n\u001b[0;32m    757\u001b[0m     ignore_results\u001b[38;5;241m=\u001b[39mignore_results,\n\u001b[0;32m    758\u001b[0m     async_post_actions\u001b[38;5;241m=\u001b[39mpost_actions,\n\u001b[0;32m    759\u001b[0m     to_arrow\u001b[38;5;241m=\u001b[39mto_arrow \u001b[38;5;129;01mand\u001b[39;00m is_final_query,\n\u001b[0;32m    760\u001b[0m     \u001b[38;5;241m*\u001b[39m\u001b[38;5;241m*\u001b[39mkwargs,\n\u001b[0;32m    761\u001b[0m )\n\u001b[0;32m    762\u001b[0m placeholders[query\u001b[38;5;241m.\u001b[39mquery_id_place_holder] \u001b[38;5;241m=\u001b[39m (\n\u001b[0;32m    763\u001b[0m     result[\u001b[38;5;124m\"\u001b[39m\u001b[38;5;124msfqid\u001b[39m\u001b[38;5;124m\"\u001b[39m] \u001b[38;5;28;01mif\u001b[39;00m \u001b[38;5;129;01mnot\u001b[39;00m is_last \u001b[38;5;28;01melse\u001b[39;00m result\u001b[38;5;241m.\u001b[39mquery_id\n\u001b[0;32m    764\u001b[0m )\n\u001b[0;32m    765\u001b[0m result_meta \u001b[38;5;241m=\u001b[39m get_new_description(\u001b[38;5;28mself\u001b[39m\u001b[38;5;241m.\u001b[39m_cursor)\n",
      "File \u001b[1;32m~\\AppData\\Roaming\\Python\\Python39\\site-packages\\snowflake\\snowpark\\_internal\\server_connection.py:133\u001b[0m, in \u001b[0;36mServerConnection._Decorator.wrap_exception.<locals>.wrap\u001b[1;34m(*args, **kwargs)\u001b[0m\n\u001b[0;32m    129\u001b[0m     \u001b[38;5;28;01mraise\u001b[39;00m SnowparkClientExceptionMessages\u001b[38;5;241m.\u001b[39mSERVER_SESSION_EXPIRED(\n\u001b[0;32m    130\u001b[0m         ex\u001b[38;5;241m.\u001b[39mcause\n\u001b[0;32m    131\u001b[0m     )\n\u001b[0;32m    132\u001b[0m \u001b[38;5;28;01mexcept\u001b[39;00m \u001b[38;5;167;01mException\u001b[39;00m \u001b[38;5;28;01mas\u001b[39;00m ex:\n\u001b[1;32m--> 133\u001b[0m     \u001b[38;5;28;01mraise\u001b[39;00m ex\n",
      "File \u001b[1;32m~\\AppData\\Roaming\\Python\\Python39\\site-packages\\snowflake\\snowpark\\_internal\\server_connection.py:127\u001b[0m, in \u001b[0;36mServerConnection._Decorator.wrap_exception.<locals>.wrap\u001b[1;34m(*args, **kwargs)\u001b[0m\n\u001b[0;32m    125\u001b[0m     \u001b[38;5;28;01mraise\u001b[39;00m SnowparkClientExceptionMessages\u001b[38;5;241m.\u001b[39mSERVER_SESSION_HAS_BEEN_CLOSED()\n\u001b[0;32m    126\u001b[0m \u001b[38;5;28;01mtry\u001b[39;00m:\n\u001b[1;32m--> 127\u001b[0m     \u001b[38;5;28;01mreturn\u001b[39;00m func(\u001b[38;5;241m*\u001b[39margs, \u001b[38;5;241m*\u001b[39m\u001b[38;5;241m*\u001b[39mkwargs)\n\u001b[0;32m    128\u001b[0m \u001b[38;5;28;01mexcept\u001b[39;00m ReauthenticationRequest \u001b[38;5;28;01mas\u001b[39;00m ex:\n\u001b[0;32m    129\u001b[0m     \u001b[38;5;28;01mraise\u001b[39;00m SnowparkClientExceptionMessages\u001b[38;5;241m.\u001b[39mSERVER_SESSION_EXPIRED(\n\u001b[0;32m    130\u001b[0m         ex\u001b[38;5;241m.\u001b[39mcause\n\u001b[0;32m    131\u001b[0m     )\n",
      "File \u001b[1;32m~\\AppData\\Roaming\\Python\\Python39\\site-packages\\snowflake\\snowpark\\_internal\\server_connection.py:520\u001b[0m, in \u001b[0;36mServerConnection.run_query\u001b[1;34m(self, query, to_pandas, to_iter, is_ddl_on_temp_object, block, data_type, async_job_plan, log_on_exception, case_sensitive, params, num_statements, ignore_results, async_post_actions, to_arrow, **kwargs)\u001b[0m\n\u001b[0;32m    518\u001b[0m         query_id_log \u001b[38;5;241m=\u001b[39m \u001b[38;5;124mf\u001b[39m\u001b[38;5;124m\"\u001b[39m\u001b[38;5;124m [queryID: \u001b[39m\u001b[38;5;132;01m{\u001b[39;00mex\u001b[38;5;241m.\u001b[39msfqid\u001b[38;5;132;01m}\u001b[39;00m\u001b[38;5;124m]\u001b[39m\u001b[38;5;124m\"\u001b[39m \u001b[38;5;28;01mif\u001b[39;00m \u001b[38;5;28mhasattr\u001b[39m(ex, \u001b[38;5;124m\"\u001b[39m\u001b[38;5;124msfqid\u001b[39m\u001b[38;5;124m\"\u001b[39m) \u001b[38;5;28;01melse\u001b[39;00m \u001b[38;5;124m\"\u001b[39m\u001b[38;5;124m\"\u001b[39m\n\u001b[0;32m    519\u001b[0m         logger\u001b[38;5;241m.\u001b[39merror(\u001b[38;5;124mf\u001b[39m\u001b[38;5;124m\"\u001b[39m\u001b[38;5;124mFailed to execute query\u001b[39m\u001b[38;5;132;01m{\u001b[39;00mquery_id_log\u001b[38;5;132;01m}\u001b[39;00m\u001b[38;5;124m \u001b[39m\u001b[38;5;132;01m{\u001b[39;00mquery\u001b[38;5;132;01m}\u001b[39;00m\u001b[38;5;130;01m\\n\u001b[39;00m\u001b[38;5;132;01m{\u001b[39;00mex\u001b[38;5;132;01m}\u001b[39;00m\u001b[38;5;124m\"\u001b[39m)\n\u001b[1;32m--> 520\u001b[0m     \u001b[38;5;28;01mraise\u001b[39;00m ex\n\u001b[0;32m    522\u001b[0m \u001b[38;5;66;03m# fetch_pandas_all/batches() only works for SELECT statements\u001b[39;00m\n\u001b[0;32m    523\u001b[0m \u001b[38;5;66;03m# We call fetchall() if fetch_pandas_all/batches() fails,\u001b[39;00m\n\u001b[0;32m    524\u001b[0m \u001b[38;5;66;03m# because when the query plan has multiple queries, it will\u001b[39;00m\n\u001b[0;32m    525\u001b[0m \u001b[38;5;66;03m# have non-select statements, and it shouldn't fail if the user\u001b[39;00m\n\u001b[0;32m    526\u001b[0m \u001b[38;5;66;03m# calls to_pandas() to execute the query.\u001b[39;00m\n\u001b[0;32m    527\u001b[0m \u001b[38;5;28;01mif\u001b[39;00m block:\n",
      "File \u001b[1;32m~\\AppData\\Roaming\\Python\\Python39\\site-packages\\snowflake\\snowpark\\_internal\\server_connection.py:505\u001b[0m, in \u001b[0;36mServerConnection.run_query\u001b[1;34m(self, query, to_pandas, to_iter, is_ddl_on_temp_object, block, data_type, async_job_plan, log_on_exception, case_sensitive, params, num_statements, ignore_results, async_post_actions, to_arrow, **kwargs)\u001b[0m\n\u001b[0;32m    503\u001b[0m     kwargs[\u001b[38;5;124m\"\u001b[39m\u001b[38;5;124m_statement_params\u001b[39m\u001b[38;5;124m\"\u001b[39m][\u001b[38;5;124m\"\u001b[39m\u001b[38;5;124mSNOWPARK_SKIP_TXN_COMMIT_IN_DDL\u001b[39m\u001b[38;5;124m\"\u001b[39m] \u001b[38;5;241m=\u001b[39m \u001b[38;5;28;01mTrue\u001b[39;00m\n\u001b[0;32m    504\u001b[0m \u001b[38;5;28;01mif\u001b[39;00m block:\n\u001b[1;32m--> 505\u001b[0m     results_cursor \u001b[38;5;241m=\u001b[39m \u001b[38;5;28mself\u001b[39m\u001b[38;5;241m.\u001b[39mexecute_and_notify_query_listener(\n\u001b[0;32m    506\u001b[0m         query, params\u001b[38;5;241m=\u001b[39mparams, \u001b[38;5;241m*\u001b[39m\u001b[38;5;241m*\u001b[39mkwargs\n\u001b[0;32m    507\u001b[0m     )\n\u001b[0;32m    508\u001b[0m     logger\u001b[38;5;241m.\u001b[39mdebug(\u001b[38;5;124mf\u001b[39m\u001b[38;5;124m\"\u001b[39m\u001b[38;5;124mExecute query [queryID: \u001b[39m\u001b[38;5;132;01m{\u001b[39;00mresults_cursor\u001b[38;5;241m.\u001b[39msfqid\u001b[38;5;132;01m}\u001b[39;00m\u001b[38;5;124m] \u001b[39m\u001b[38;5;132;01m{\u001b[39;00mquery\u001b[38;5;132;01m}\u001b[39;00m\u001b[38;5;124m\"\u001b[39m)\n\u001b[0;32m    509\u001b[0m \u001b[38;5;28;01melse\u001b[39;00m:\n",
      "File \u001b[1;32m~\\AppData\\Roaming\\Python\\Python39\\site-packages\\snowflake\\snowpark\\_internal\\server_connection.py:446\u001b[0m, in \u001b[0;36mServerConnection.execute_and_notify_query_listener\u001b[1;34m(self, query, **kwargs)\u001b[0m\n\u001b[0;32m    442\u001b[0m     err_query \u001b[38;5;241m=\u001b[39m ex\u001b[38;5;241m.\u001b[39mquery \u001b[38;5;28;01mif\u001b[39;00m \u001b[38;5;28misinstance\u001b[39m(ex, Error) \u001b[38;5;28;01melse\u001b[39;00m query\n\u001b[0;32m    443\u001b[0m     \u001b[38;5;28mself\u001b[39m\u001b[38;5;241m.\u001b[39mnotify_query_listeners(\n\u001b[0;32m    444\u001b[0m         QueryRecord(sfqid, err_query, \u001b[38;5;28;01mFalse\u001b[39;00m), is_error\u001b[38;5;241m=\u001b[39m\u001b[38;5;28;01mTrue\u001b[39;00m, \u001b[38;5;241m*\u001b[39m\u001b[38;5;241m*\u001b[39mnotify_kwargs\n\u001b[0;32m    445\u001b[0m     )\n\u001b[1;32m--> 446\u001b[0m     \u001b[38;5;28;01mraise\u001b[39;00m ex\n\u001b[0;32m    448\u001b[0m notify_kwargs[\u001b[38;5;124m\"\u001b[39m\u001b[38;5;124mrequestId\u001b[39m\u001b[38;5;124m\"\u001b[39m] \u001b[38;5;241m=\u001b[39m \u001b[38;5;28mstr\u001b[39m(results_cursor\u001b[38;5;241m.\u001b[39m_request_id)\n\u001b[0;32m    449\u001b[0m \u001b[38;5;28mself\u001b[39m\u001b[38;5;241m.\u001b[39mnotify_query_listeners(\n\u001b[0;32m    450\u001b[0m     QueryRecord(results_cursor\u001b[38;5;241m.\u001b[39msfqid, results_cursor\u001b[38;5;241m.\u001b[39mquery), \u001b[38;5;241m*\u001b[39m\u001b[38;5;241m*\u001b[39mnotify_kwargs\n\u001b[0;32m    451\u001b[0m )\n",
      "File \u001b[1;32m~\\AppData\\Roaming\\Python\\Python39\\site-packages\\snowflake\\snowpark\\_internal\\server_connection.py:437\u001b[0m, in \u001b[0;36mServerConnection.execute_and_notify_query_listener\u001b[1;34m(self, query, **kwargs)\u001b[0m\n\u001b[0;32m    434\u001b[0m     notify_kwargs[\u001b[38;5;124m\"\u001b[39m\u001b[38;5;124mdataframeAst\u001b[39m\u001b[38;5;124m\"\u001b[39m] \u001b[38;5;241m=\u001b[39m kwargs[DATAFRAME_AST_PARAMETER]\n\u001b[0;32m    436\u001b[0m \u001b[38;5;28;01mtry\u001b[39;00m:\n\u001b[1;32m--> 437\u001b[0m     results_cursor \u001b[38;5;241m=\u001b[39m \u001b[38;5;28mself\u001b[39m\u001b[38;5;241m.\u001b[39m_cursor\u001b[38;5;241m.\u001b[39mexecute(query, \u001b[38;5;241m*\u001b[39m\u001b[38;5;241m*\u001b[39mkwargs)\n\u001b[0;32m    438\u001b[0m \u001b[38;5;28;01mexcept\u001b[39;00m \u001b[38;5;167;01mException\u001b[39;00m \u001b[38;5;28;01mas\u001b[39;00m ex:\n\u001b[0;32m    439\u001b[0m     notify_kwargs[\u001b[38;5;124m\"\u001b[39m\u001b[38;5;124mrequestId\u001b[39m\u001b[38;5;124m\"\u001b[39m] \u001b[38;5;241m=\u001b[39m \u001b[38;5;28;01mNone\u001b[39;00m\n",
      "File \u001b[1;32m~\\AppData\\Roaming\\Python\\Python39\\site-packages\\snowflake\\connector\\cursor.py:1134\u001b[0m, in \u001b[0;36mSnowflakeCursor.execute\u001b[1;34m(self, command, params, _bind_stage, timeout, _exec_async, _no_retry, _do_reset, _put_callback, _put_azure_callback, _put_callback_output_stream, _get_callback, _get_azure_callback, _get_callback_output_stream, _show_progress_bar, _statement_params, _is_internal, _describe_only, _no_results, _is_put_get, _raise_put_get_error, _force_put_overwrite, _skip_upload_on_content_match, file_stream, num_statements, _force_qmark_paramstyle, _dataframe_ast)\u001b[0m\n\u001b[0;32m   1130\u001b[0m     is_integrity_error \u001b[38;5;241m=\u001b[39m (\n\u001b[0;32m   1131\u001b[0m         code \u001b[38;5;241m==\u001b[39m \u001b[38;5;124m\"\u001b[39m\u001b[38;5;124m100072\u001b[39m\u001b[38;5;124m\"\u001b[39m\n\u001b[0;32m   1132\u001b[0m     )  \u001b[38;5;66;03m# NULL result in a non-nullable column\u001b[39;00m\n\u001b[0;32m   1133\u001b[0m     error_class \u001b[38;5;241m=\u001b[39m IntegrityError \u001b[38;5;28;01mif\u001b[39;00m is_integrity_error \u001b[38;5;28;01melse\u001b[39;00m ProgrammingError\n\u001b[1;32m-> 1134\u001b[0m     \u001b[43mError\u001b[49m\u001b[38;5;241;43m.\u001b[39;49m\u001b[43merrorhandler_wrapper\u001b[49m\u001b[43m(\u001b[49m\u001b[38;5;28;43mself\u001b[39;49m\u001b[38;5;241;43m.\u001b[39;49m\u001b[43mconnection\u001b[49m\u001b[43m,\u001b[49m\u001b[43m \u001b[49m\u001b[38;5;28;43mself\u001b[39;49m\u001b[43m,\u001b[49m\u001b[43m \u001b[49m\u001b[43merror_class\u001b[49m\u001b[43m,\u001b[49m\u001b[43m \u001b[49m\u001b[43merrvalue\u001b[49m\u001b[43m)\u001b[49m\n\u001b[0;32m   1135\u001b[0m \u001b[38;5;28;01mreturn\u001b[39;00m \u001b[38;5;28mself\u001b[39m\n",
      "File \u001b[1;32m~\\AppData\\Roaming\\Python\\Python39\\site-packages\\snowflake\\connector\\errors.py:279\u001b[0m, in \u001b[0;36mError.errorhandler_wrapper\u001b[1;34m(connection, cursor, error_class, error_value)\u001b[0m\n\u001b[0;32m    256\u001b[0m \u001b[38;5;129m@staticmethod\u001b[39m\n\u001b[0;32m    257\u001b[0m \u001b[38;5;28;01mdef\u001b[39;00m\u001b[38;5;250m \u001b[39m\u001b[38;5;21merrorhandler_wrapper\u001b[39m(\n\u001b[0;32m    258\u001b[0m     connection: SnowflakeConnection \u001b[38;5;241m|\u001b[39m \u001b[38;5;28;01mNone\u001b[39;00m,\n\u001b[1;32m   (...)\u001b[0m\n\u001b[0;32m    261\u001b[0m     error_value: \u001b[38;5;28mdict\u001b[39m[\u001b[38;5;28mstr\u001b[39m, Any],\n\u001b[0;32m    262\u001b[0m ) \u001b[38;5;241m-\u001b[39m\u001b[38;5;241m>\u001b[39m \u001b[38;5;28;01mNone\u001b[39;00m:\n\u001b[0;32m    263\u001b[0m \u001b[38;5;250m    \u001b[39m\u001b[38;5;124;03m\"\"\"Error handler wrapper that calls the errorhandler method.\u001b[39;00m\n\u001b[0;32m    264\u001b[0m \n\u001b[0;32m    265\u001b[0m \u001b[38;5;124;03m    Args:\u001b[39;00m\n\u001b[1;32m   (...)\u001b[0m\n\u001b[0;32m    276\u001b[0m \u001b[38;5;124;03m        exception to the first handler in that order.\u001b[39;00m\n\u001b[0;32m    277\u001b[0m \u001b[38;5;124;03m    \"\"\"\u001b[39;00m\n\u001b[1;32m--> 279\u001b[0m     handed_over \u001b[38;5;241m=\u001b[39m \u001b[43mError\u001b[49m\u001b[38;5;241;43m.\u001b[39;49m\u001b[43mhand_to_other_handler\u001b[49m\u001b[43m(\u001b[49m\n\u001b[0;32m    280\u001b[0m \u001b[43m        \u001b[49m\u001b[43mconnection\u001b[49m\u001b[43m,\u001b[49m\n\u001b[0;32m    281\u001b[0m \u001b[43m        \u001b[49m\u001b[43mcursor\u001b[49m\u001b[43m,\u001b[49m\n\u001b[0;32m    282\u001b[0m \u001b[43m        \u001b[49m\u001b[43merror_class\u001b[49m\u001b[43m,\u001b[49m\n\u001b[0;32m    283\u001b[0m \u001b[43m        \u001b[49m\u001b[43merror_value\u001b[49m\u001b[43m,\u001b[49m\n\u001b[0;32m    284\u001b[0m \u001b[43m    \u001b[49m\u001b[43m)\u001b[49m\n\u001b[0;32m    285\u001b[0m     \u001b[38;5;28;01mif\u001b[39;00m \u001b[38;5;129;01mnot\u001b[39;00m handed_over:\n\u001b[0;32m    286\u001b[0m         \u001b[38;5;28;01mraise\u001b[39;00m Error\u001b[38;5;241m.\u001b[39merrorhandler_make_exception(\n\u001b[0;32m    287\u001b[0m             error_class,\n\u001b[0;32m    288\u001b[0m             error_value,\n\u001b[0;32m    289\u001b[0m         )\n",
      "File \u001b[1;32m~\\AppData\\Roaming\\Python\\Python39\\site-packages\\snowflake\\connector\\errors.py:334\u001b[0m, in \u001b[0;36mError.hand_to_other_handler\u001b[1;34m(connection, cursor, error_class, error_value)\u001b[0m\n\u001b[0;32m    332\u001b[0m \u001b[38;5;28;01mif\u001b[39;00m cursor \u001b[38;5;129;01mis\u001b[39;00m \u001b[38;5;129;01mnot\u001b[39;00m \u001b[38;5;28;01mNone\u001b[39;00m:\n\u001b[0;32m    333\u001b[0m     cursor\u001b[38;5;241m.\u001b[39mmessages\u001b[38;5;241m.\u001b[39mappend((error_class, error_value))\n\u001b[1;32m--> 334\u001b[0m     \u001b[43mcursor\u001b[49m\u001b[38;5;241;43m.\u001b[39;49m\u001b[43merrorhandler\u001b[49m\u001b[43m(\u001b[49m\u001b[43mconnection\u001b[49m\u001b[43m,\u001b[49m\u001b[43m \u001b[49m\u001b[43mcursor\u001b[49m\u001b[43m,\u001b[49m\u001b[43m \u001b[49m\u001b[43merror_class\u001b[49m\u001b[43m,\u001b[49m\u001b[43m \u001b[49m\u001b[43merror_value\u001b[49m\u001b[43m)\u001b[49m\n\u001b[0;32m    335\u001b[0m     \u001b[38;5;28;01mreturn\u001b[39;00m \u001b[38;5;28;01mTrue\u001b[39;00m\n\u001b[0;32m    336\u001b[0m \u001b[38;5;28;01melif\u001b[39;00m connection \u001b[38;5;129;01mis\u001b[39;00m \u001b[38;5;129;01mnot\u001b[39;00m \u001b[38;5;28;01mNone\u001b[39;00m:\n",
      "File \u001b[1;32m~\\AppData\\Roaming\\Python\\Python39\\site-packages\\snowflake\\connector\\errors.py:210\u001b[0m, in \u001b[0;36mError.default_errorhandler\u001b[1;34m(connection, cursor, error_class, error_value)\u001b[0m\n\u001b[0;32m    208\u001b[0m errno \u001b[38;5;241m=\u001b[39m error_value\u001b[38;5;241m.\u001b[39mget(\u001b[38;5;124m\"\u001b[39m\u001b[38;5;124merrno\u001b[39m\u001b[38;5;124m\"\u001b[39m)\n\u001b[0;32m    209\u001b[0m done_format_msg \u001b[38;5;241m=\u001b[39m error_value\u001b[38;5;241m.\u001b[39mget(\u001b[38;5;124m\"\u001b[39m\u001b[38;5;124mdone_format_msg\u001b[39m\u001b[38;5;124m\"\u001b[39m)\n\u001b[1;32m--> 210\u001b[0m \u001b[38;5;28;01mraise\u001b[39;00m error_class(\n\u001b[0;32m    211\u001b[0m     msg\u001b[38;5;241m=\u001b[39merror_value\u001b[38;5;241m.\u001b[39mget(\u001b[38;5;124m\"\u001b[39m\u001b[38;5;124mmsg\u001b[39m\u001b[38;5;124m\"\u001b[39m),\n\u001b[0;32m    212\u001b[0m     errno\u001b[38;5;241m=\u001b[39m\u001b[38;5;28;01mNone\u001b[39;00m \u001b[38;5;28;01mif\u001b[39;00m errno \u001b[38;5;129;01mis\u001b[39;00m \u001b[38;5;28;01mNone\u001b[39;00m \u001b[38;5;28;01melse\u001b[39;00m \u001b[38;5;28mint\u001b[39m(errno),\n\u001b[0;32m    213\u001b[0m     sqlstate\u001b[38;5;241m=\u001b[39merror_value\u001b[38;5;241m.\u001b[39mget(\u001b[38;5;124m\"\u001b[39m\u001b[38;5;124msqlstate\u001b[39m\u001b[38;5;124m\"\u001b[39m),\n\u001b[0;32m    214\u001b[0m     sfqid\u001b[38;5;241m=\u001b[39merror_value\u001b[38;5;241m.\u001b[39mget(\u001b[38;5;124m\"\u001b[39m\u001b[38;5;124msfqid\u001b[39m\u001b[38;5;124m\"\u001b[39m),\n\u001b[0;32m    215\u001b[0m     query\u001b[38;5;241m=\u001b[39merror_value\u001b[38;5;241m.\u001b[39mget(\u001b[38;5;124m\"\u001b[39m\u001b[38;5;124mquery\u001b[39m\u001b[38;5;124m\"\u001b[39m),\n\u001b[0;32m    216\u001b[0m     done_format_msg\u001b[38;5;241m=\u001b[39m(\n\u001b[0;32m    217\u001b[0m         \u001b[38;5;28;01mNone\u001b[39;00m \u001b[38;5;28;01mif\u001b[39;00m done_format_msg \u001b[38;5;129;01mis\u001b[39;00m \u001b[38;5;28;01mNone\u001b[39;00m \u001b[38;5;28;01melse\u001b[39;00m \u001b[38;5;28mbool\u001b[39m(done_format_msg)\n\u001b[0;32m    218\u001b[0m     ),\n\u001b[0;32m    219\u001b[0m     connection\u001b[38;5;241m=\u001b[39mconnection,\n\u001b[0;32m    220\u001b[0m     cursor\u001b[38;5;241m=\u001b[39mcursor,\n\u001b[0;32m    221\u001b[0m )\n",
      "\u001b[1;31mSnowparkSQLException\u001b[0m: (1304): 01bc8949-0106-9877-0002-b46a0009508a: 003167 (42601): Error assuming AWS_ROLE:\nUser: arn:aws:iam::296062579650:user/iovx0000-s is not authorized to perform: sts:AssumeRole on resource: arn:aws:iam::756124510499:role/connectandinspire"
     ]
    }
   ],
   "source": [
    "# Vul tabel cards_data\n",
    "\n",
    "new_session.sql(\"\"\"\n",
    "                COPY INTO cards_data\n",
    "                FROM @aws_s3_cards_stage\n",
    "                FILE_FORMAT = (FORMAT_NAME = 'mijn_csv_format');\n",
    "                \"\"\").collect()\n",
    "\n",
    "print(\"Tabel cards_data gevuld\")\n",
    "\n"
   ]
  }
 ],
 "metadata": {
  "kernelspec": {
   "display_name": "Python 3",
   "language": "python",
   "name": "python3"
  },
  "language_info": {
   "codemirror_mode": {
    "name": "ipython",
    "version": 3
   },
   "file_extension": ".py",
   "mimetype": "text/x-python",
   "name": "python",
   "nbconvert_exporter": "python",
   "pygments_lexer": "ipython3",
   "version": "3.9.13"
  }
 },
 "nbformat": 4,
 "nbformat_minor": 5
}
