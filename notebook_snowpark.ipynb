{
 "cells": [
  {
   "cell_type": "code",
   "execution_count": 1,
   "id": "7ddbcdf8",
   "metadata": {},
   "outputs": [],
   "source": [
    "from snowflake.snowpark import Session\n",
    "connection_parameters = {\n",
    "  \"account\": \"MQJIBNP-VM41968\",\n",
    "  \"user\": \"PETAR\",\n",
    "  \"password\": \"_SlapSh0t_Hardc0re_\"\n",
    "}\n",
    "\n",
    "new_session = Session.builder.configs(connection_parameters).create()"
   ]
  },
  {
   "cell_type": "code",
   "execution_count": 2,
   "id": "ab6cc56d",
   "metadata": {},
   "outputs": [
    {
     "name": "stdout",
     "output_type": "stream",
     "text": [
      "------------------------------------\n",
      "|\"status\"                          |\n",
      "------------------------------------\n",
      "|Statement executed successfully.  |\n",
      "------------------------------------\n",
      "\n"
     ]
    }
   ],
   "source": [
    "df = new_session.sql(\"use database AWS;\")\n",
    "df.show()"
   ]
  },
  {
   "cell_type": "code",
   "execution_count": null,
   "id": "dc19b74a",
   "metadata": {},
   "outputs": [],
   "source": []
  }
 ],
 "metadata": {
  "kernelspec": {
   "display_name": "Python 3",
   "language": "python",
   "name": "python3"
  },
  "language_info": {
   "codemirror_mode": {
    "name": "ipython",
    "version": 3
   },
   "file_extension": ".py",
   "mimetype": "text/x-python",
   "name": "python",
   "nbconvert_exporter": "python",
   "pygments_lexer": "ipython3",
   "version": "3.11.9"
  }
 },
 "nbformat": 4,
 "nbformat_minor": 5
}
